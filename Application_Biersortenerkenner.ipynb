{
  "nbformat": 4,
  "nbformat_minor": 0,
  "metadata": {
    "colab": {
      "name": "Application_Biersortenerkenner.ipynb",
      "provenance": [],
      "toc_visible": true,
      "authorship_tag": "ABX9TyNAC75FSlxpg6zATPB0qqfU",
      "include_colab_link": true
    },
    "kernelspec": {
      "name": "python3",
      "display_name": "Python 3"
    },
    "language_info": {
      "name": "python"
    },
    "widgets": {
      "application/vnd.jupyter.widget-state+json": {
        "222ae244e1e94f9283146ca6b75ebec0": {
          "model_module": "@jupyter-widgets/controls",
          "model_name": "FileUploadModel",
          "state": {
            "_view_name": "FileUploadView",
            "_counter": 1,
            "style": "IPY_MODEL_08ff58a3276a4a8f8384ccfa53c87c22",
            "_dom_classes": [],
            "description": "Upload",
            "multiple": false,
            "_model_name": "FileUploadModel",
            "data": [
              null
            ],
            "button_style": "",
            "_view_module": "@jupyter-widgets/controls",
            "_model_module_version": "1.5.0",
            "accept": "",
            "_view_count": null,
            "disabled": false,
            "_view_module_version": "1.5.0",
            "error": "",
            "description_tooltip": null,
            "metadata": [
              {
                "name": "guiness_west_indies_porter_01.jpg",
                "type": "image/jpeg",
                "size": 5482,
                "lastModified": 1617955204443
              }
            ],
            "_model_module": "@jupyter-widgets/controls",
            "layout": "IPY_MODEL_9685608b5ed5482988346a1e34f25d5d",
            "icon": "upload"
          }
        },
        "08ff58a3276a4a8f8384ccfa53c87c22": {
          "model_module": "@jupyter-widgets/controls",
          "model_name": "ButtonStyleModel",
          "state": {
            "_view_name": "StyleView",
            "_model_name": "ButtonStyleModel",
            "_view_module": "@jupyter-widgets/base",
            "_model_module_version": "1.5.0",
            "_view_count": null,
            "button_color": null,
            "font_weight": "",
            "_view_module_version": "1.2.0",
            "_model_module": "@jupyter-widgets/controls"
          }
        },
        "9685608b5ed5482988346a1e34f25d5d": {
          "model_module": "@jupyter-widgets/base",
          "model_name": "LayoutModel",
          "state": {
            "_view_name": "LayoutView",
            "grid_template_rows": null,
            "right": null,
            "justify_content": null,
            "_view_module": "@jupyter-widgets/base",
            "overflow": null,
            "_model_module_version": "1.2.0",
            "_view_count": null,
            "flex_flow": null,
            "width": null,
            "min_width": null,
            "border": null,
            "align_items": null,
            "bottom": null,
            "_model_module": "@jupyter-widgets/base",
            "top": null,
            "grid_column": null,
            "overflow_y": null,
            "overflow_x": null,
            "grid_auto_flow": null,
            "grid_area": null,
            "grid_template_columns": null,
            "flex": null,
            "_model_name": "LayoutModel",
            "justify_items": null,
            "grid_row": null,
            "max_height": null,
            "align_content": null,
            "visibility": null,
            "align_self": null,
            "height": null,
            "min_height": null,
            "padding": null,
            "grid_auto_rows": null,
            "grid_gap": null,
            "max_width": null,
            "order": null,
            "_view_module_version": "1.2.0",
            "grid_template_areas": null,
            "object_position": null,
            "object_fit": null,
            "grid_auto_columns": null,
            "margin": null,
            "display": null,
            "left": null
          }
        },
        "2c13b00a205a429586d34964700fffd8": {
          "model_module": "@jupyter-widgets/output",
          "model_name": "OutputModel",
          "state": {
            "_view_name": "OutputView",
            "msg_id": "",
            "_dom_classes": [],
            "_model_name": "OutputModel",
            "outputs": [
              {
                "output_type": "display_data",
                "metadata": {
                  "tags": []
                },
                "image/png": "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\n",
                "text/plain": "<PIL.Image.Image image mode=RGB size=128x128 at 0x7F3D8C4FF310>"
              }
            ],
            "_view_module": "@jupyter-widgets/output",
            "_model_module_version": "1.0.0",
            "_view_count": null,
            "_view_module_version": "1.0.0",
            "layout": "IPY_MODEL_95db9f72ee514549b8e910c045ce9fdf",
            "_model_module": "@jupyter-widgets/output"
          }
        },
        "95db9f72ee514549b8e910c045ce9fdf": {
          "model_module": "@jupyter-widgets/base",
          "model_name": "LayoutModel",
          "state": {
            "_view_name": "LayoutView",
            "grid_template_rows": null,
            "right": null,
            "justify_content": null,
            "_view_module": "@jupyter-widgets/base",
            "overflow": null,
            "_model_module_version": "1.2.0",
            "_view_count": null,
            "flex_flow": null,
            "width": null,
            "min_width": null,
            "border": null,
            "align_items": null,
            "bottom": null,
            "_model_module": "@jupyter-widgets/base",
            "top": null,
            "grid_column": null,
            "overflow_y": null,
            "overflow_x": null,
            "grid_auto_flow": null,
            "grid_area": null,
            "grid_template_columns": null,
            "flex": null,
            "_model_name": "LayoutModel",
            "justify_items": null,
            "grid_row": null,
            "max_height": null,
            "align_content": null,
            "visibility": null,
            "align_self": null,
            "height": null,
            "min_height": null,
            "padding": null,
            "grid_auto_rows": null,
            "grid_gap": null,
            "max_width": null,
            "order": null,
            "_view_module_version": "1.2.0",
            "grid_template_areas": null,
            "object_position": null,
            "object_fit": null,
            "grid_auto_columns": null,
            "margin": null,
            "display": null,
            "left": null
          }
        },
        "4951b3644af949488d247bcdd2c55811": {
          "model_module": "@jupyter-widgets/controls",
          "model_name": "LabelModel",
          "state": {
            "_view_name": "LabelView",
            "style": "IPY_MODEL_62762c81dcea4c77b7a88266b9d22caa",
            "_dom_classes": [],
            "description": "",
            "_model_name": "LabelModel",
            "placeholder": "​",
            "_view_module": "@jupyter-widgets/controls",
            "_model_module_version": "1.5.0",
            "value": "Prediction: guinness_west_indies_porter ; Probability: 1.0000",
            "_view_count": null,
            "_view_module_version": "1.5.0",
            "description_tooltip": null,
            "_model_module": "@jupyter-widgets/controls",
            "layout": "IPY_MODEL_a3fba80a4bf346609d9a70e0da39d35d"
          }
        },
        "62762c81dcea4c77b7a88266b9d22caa": {
          "model_module": "@jupyter-widgets/controls",
          "model_name": "DescriptionStyleModel",
          "state": {
            "_view_name": "StyleView",
            "_model_name": "DescriptionStyleModel",
            "description_width": "",
            "_view_module": "@jupyter-widgets/base",
            "_model_module_version": "1.5.0",
            "_view_count": null,
            "_view_module_version": "1.2.0",
            "_model_module": "@jupyter-widgets/controls"
          }
        },
        "a3fba80a4bf346609d9a70e0da39d35d": {
          "model_module": "@jupyter-widgets/base",
          "model_name": "LayoutModel",
          "state": {
            "_view_name": "LayoutView",
            "grid_template_rows": null,
            "right": null,
            "justify_content": null,
            "_view_module": "@jupyter-widgets/base",
            "overflow": null,
            "_model_module_version": "1.2.0",
            "_view_count": null,
            "flex_flow": null,
            "width": null,
            "min_width": null,
            "border": null,
            "align_items": null,
            "bottom": null,
            "_model_module": "@jupyter-widgets/base",
            "top": null,
            "grid_column": null,
            "overflow_y": null,
            "overflow_x": null,
            "grid_auto_flow": null,
            "grid_area": null,
            "grid_template_columns": null,
            "flex": null,
            "_model_name": "LayoutModel",
            "justify_items": null,
            "grid_row": null,
            "max_height": null,
            "align_content": null,
            "visibility": null,
            "align_self": null,
            "height": null,
            "min_height": null,
            "padding": null,
            "grid_auto_rows": null,
            "grid_gap": null,
            "max_width": null,
            "order": null,
            "_view_module_version": "1.2.0",
            "grid_template_areas": null,
            "object_position": null,
            "object_fit": null,
            "grid_auto_columns": null,
            "margin": null,
            "display": null,
            "left": null
          }
        },
        "735c88a3d14249bfa918c68ea1be7fc1": {
          "model_module": "@jupyter-widgets/controls",
          "model_name": "ButtonModel",
          "state": {
            "_view_name": "ButtonView",
            "style": "IPY_MODEL_eca08a9d923547ca81fffa6c0030ef81",
            "_dom_classes": [],
            "description": "Classify",
            "_model_name": "ButtonModel",
            "button_style": "",
            "_view_module": "@jupyter-widgets/controls",
            "_model_module_version": "1.5.0",
            "tooltip": "",
            "_view_count": null,
            "disabled": false,
            "_view_module_version": "1.5.0",
            "layout": "IPY_MODEL_ca49eef9dbd9471eb7fec34059512999",
            "_model_module": "@jupyter-widgets/controls",
            "icon": ""
          }
        },
        "eca08a9d923547ca81fffa6c0030ef81": {
          "model_module": "@jupyter-widgets/controls",
          "model_name": "ButtonStyleModel",
          "state": {
            "_view_name": "StyleView",
            "_model_name": "ButtonStyleModel",
            "_view_module": "@jupyter-widgets/base",
            "_model_module_version": "1.5.0",
            "_view_count": null,
            "button_color": null,
            "font_weight": "",
            "_view_module_version": "1.2.0",
            "_model_module": "@jupyter-widgets/controls"
          }
        },
        "ca49eef9dbd9471eb7fec34059512999": {
          "model_module": "@jupyter-widgets/base",
          "model_name": "LayoutModel",
          "state": {
            "_view_name": "LayoutView",
            "grid_template_rows": null,
            "right": null,
            "justify_content": null,
            "_view_module": "@jupyter-widgets/base",
            "overflow": null,
            "_model_module_version": "1.2.0",
            "_view_count": null,
            "flex_flow": null,
            "width": null,
            "min_width": null,
            "border": null,
            "align_items": null,
            "bottom": null,
            "_model_module": "@jupyter-widgets/base",
            "top": null,
            "grid_column": null,
            "overflow_y": null,
            "overflow_x": null,
            "grid_auto_flow": null,
            "grid_area": null,
            "grid_template_columns": null,
            "flex": null,
            "_model_name": "LayoutModel",
            "justify_items": null,
            "grid_row": null,
            "max_height": null,
            "align_content": null,
            "visibility": null,
            "align_self": null,
            "height": null,
            "min_height": null,
            "padding": null,
            "grid_auto_rows": null,
            "grid_gap": null,
            "max_width": null,
            "order": null,
            "_view_module_version": "1.2.0",
            "grid_template_areas": null,
            "object_position": null,
            "object_fit": null,
            "grid_auto_columns": null,
            "margin": null,
            "display": null,
            "left": null
          }
        },
        "c8612e180d724d40bc3a53716cc9a427": {
          "model_module": "@jupyter-widgets/controls",
          "model_name": "VBoxModel",
          "state": {
            "_view_name": "VBoxView",
            "_dom_classes": [],
            "_model_name": "VBoxModel",
            "_view_module": "@jupyter-widgets/controls",
            "_model_module_version": "1.5.0",
            "_view_count": null,
            "_view_module_version": "1.5.0",
            "box_style": "",
            "layout": "IPY_MODEL_ead9cdc00b4d4410b34d7c83b0221194",
            "_model_module": "@jupyter-widgets/controls",
            "children": [
              "IPY_MODEL_e3c316d527c144478aa546fc9fabee41",
              "IPY_MODEL_fde018d7462a450fb9e1f6cf7817835d",
              "IPY_MODEL_735c88a3d14249bfa918c68ea1be7fc1",
              "IPY_MODEL_2c13b00a205a429586d34964700fffd8",
              "IPY_MODEL_4951b3644af949488d247bcdd2c55811"
            ]
          }
        },
        "ead9cdc00b4d4410b34d7c83b0221194": {
          "model_module": "@jupyter-widgets/base",
          "model_name": "LayoutModel",
          "state": {
            "_view_name": "LayoutView",
            "grid_template_rows": null,
            "right": null,
            "justify_content": null,
            "_view_module": "@jupyter-widgets/base",
            "overflow": null,
            "_model_module_version": "1.2.0",
            "_view_count": null,
            "flex_flow": null,
            "width": null,
            "min_width": null,
            "border": null,
            "align_items": null,
            "bottom": null,
            "_model_module": "@jupyter-widgets/base",
            "top": null,
            "grid_column": null,
            "overflow_y": null,
            "overflow_x": null,
            "grid_auto_flow": null,
            "grid_area": null,
            "grid_template_columns": null,
            "flex": null,
            "_model_name": "LayoutModel",
            "justify_items": null,
            "grid_row": null,
            "max_height": null,
            "align_content": null,
            "visibility": null,
            "align_self": null,
            "height": null,
            "min_height": null,
            "padding": null,
            "grid_auto_rows": null,
            "grid_gap": null,
            "max_width": null,
            "order": null,
            "_view_module_version": "1.2.0",
            "grid_template_areas": null,
            "object_position": null,
            "object_fit": null,
            "grid_auto_columns": null,
            "margin": null,
            "display": null,
            "left": null
          }
        },
        "e3c316d527c144478aa546fc9fabee41": {
          "model_module": "@jupyter-widgets/controls",
          "model_name": "LabelModel",
          "state": {
            "_view_name": "LabelView",
            "style": "IPY_MODEL_fea8cdfe1e2648978c203ac415b27e0a",
            "_dom_classes": [],
            "description": "",
            "_model_name": "LabelModel",
            "placeholder": "​",
            "_view_module": "@jupyter-widgets/controls",
            "_model_module_version": "1.5.0",
            "value": "Select your beer",
            "_view_count": null,
            "_view_module_version": "1.5.0",
            "description_tooltip": null,
            "_model_module": "@jupyter-widgets/controls",
            "layout": "IPY_MODEL_e2678e7401094888aac851b5f79cc77d"
          }
        },
        "fde018d7462a450fb9e1f6cf7817835d": {
          "model_module": "@jupyter-widgets/controls",
          "model_name": "FileUploadModel",
          "state": {
            "_view_name": "FileUploadView",
            "_counter": 0,
            "style": "IPY_MODEL_c97455e7128047ee948010048acd31e8",
            "_dom_classes": [],
            "description": "Upload",
            "multiple": false,
            "_model_name": "FileUploadModel",
            "data": [],
            "button_style": "",
            "_view_module": "@jupyter-widgets/controls",
            "_model_module_version": "1.5.0",
            "accept": "",
            "_view_count": null,
            "disabled": false,
            "_view_module_version": "1.5.0",
            "error": "",
            "description_tooltip": null,
            "metadata": [],
            "_model_module": "@jupyter-widgets/controls",
            "layout": "IPY_MODEL_c54e9245aa884cde821f6114912f0481",
            "icon": "upload"
          }
        },
        "fea8cdfe1e2648978c203ac415b27e0a": {
          "model_module": "@jupyter-widgets/controls",
          "model_name": "DescriptionStyleModel",
          "state": {
            "_view_name": "StyleView",
            "_model_name": "DescriptionStyleModel",
            "description_width": "",
            "_view_module": "@jupyter-widgets/base",
            "_model_module_version": "1.5.0",
            "_view_count": null,
            "_view_module_version": "1.2.0",
            "_model_module": "@jupyter-widgets/controls"
          }
        },
        "e2678e7401094888aac851b5f79cc77d": {
          "model_module": "@jupyter-widgets/base",
          "model_name": "LayoutModel",
          "state": {
            "_view_name": "LayoutView",
            "grid_template_rows": null,
            "right": null,
            "justify_content": null,
            "_view_module": "@jupyter-widgets/base",
            "overflow": null,
            "_model_module_version": "1.2.0",
            "_view_count": null,
            "flex_flow": null,
            "width": null,
            "min_width": null,
            "border": null,
            "align_items": null,
            "bottom": null,
            "_model_module": "@jupyter-widgets/base",
            "top": null,
            "grid_column": null,
            "overflow_y": null,
            "overflow_x": null,
            "grid_auto_flow": null,
            "grid_area": null,
            "grid_template_columns": null,
            "flex": null,
            "_model_name": "LayoutModel",
            "justify_items": null,
            "grid_row": null,
            "max_height": null,
            "align_content": null,
            "visibility": null,
            "align_self": null,
            "height": null,
            "min_height": null,
            "padding": null,
            "grid_auto_rows": null,
            "grid_gap": null,
            "max_width": null,
            "order": null,
            "_view_module_version": "1.2.0",
            "grid_template_areas": null,
            "object_position": null,
            "object_fit": null,
            "grid_auto_columns": null,
            "margin": null,
            "display": null,
            "left": null
          }
        },
        "c97455e7128047ee948010048acd31e8": {
          "model_module": "@jupyter-widgets/controls",
          "model_name": "ButtonStyleModel",
          "state": {
            "_view_name": "StyleView",
            "_model_name": "ButtonStyleModel",
            "_view_module": "@jupyter-widgets/base",
            "_model_module_version": "1.5.0",
            "_view_count": null,
            "button_color": null,
            "font_weight": "",
            "_view_module_version": "1.2.0",
            "_model_module": "@jupyter-widgets/controls"
          }
        },
        "c54e9245aa884cde821f6114912f0481": {
          "model_module": "@jupyter-widgets/base",
          "model_name": "LayoutModel",
          "state": {
            "_view_name": "LayoutView",
            "grid_template_rows": null,
            "right": null,
            "justify_content": null,
            "_view_module": "@jupyter-widgets/base",
            "overflow": null,
            "_model_module_version": "1.2.0",
            "_view_count": null,
            "flex_flow": null,
            "width": null,
            "min_width": null,
            "border": null,
            "align_items": null,
            "bottom": null,
            "_model_module": "@jupyter-widgets/base",
            "top": null,
            "grid_column": null,
            "overflow_y": null,
            "overflow_x": null,
            "grid_auto_flow": null,
            "grid_area": null,
            "grid_template_columns": null,
            "flex": null,
            "_model_name": "LayoutModel",
            "justify_items": null,
            "grid_row": null,
            "max_height": null,
            "align_content": null,
            "visibility": null,
            "align_self": null,
            "height": null,
            "min_height": null,
            "padding": null,
            "grid_auto_rows": null,
            "grid_gap": null,
            "max_width": null,
            "order": null,
            "_view_module_version": "1.2.0",
            "grid_template_areas": null,
            "object_position": null,
            "object_fit": null,
            "grid_auto_columns": null,
            "margin": null,
            "display": null,
            "left": null
          }
        }
      }
    }
  },
  "cells": [
    {
      "cell_type": "markdown",
      "metadata": {
        "id": "view-in-github",
        "colab_type": "text"
      },
      "source": [
        "<a href=\"https://colab.research.google.com/github/lhoegler16/Biersortenerkennung/blob/main/Application_Biersortenerkenner.ipynb\" target=\"_parent\"><img src=\"https://colab.research.google.com/assets/colab-badge.svg\" alt=\"Open In Colab\"/></a>"
      ]
    },
    {
      "cell_type": "code",
      "metadata": {
        "id": "UXNRRHJozbwx"
      },
      "source": [
        ""
      ],
      "execution_count": null,
      "outputs": []
    },
    {
      "cell_type": "code",
      "metadata": {
        "colab": {
          "base_uri": "https://localhost:8080/"
        },
        "id": "9uBzyRc8zxaX",
        "outputId": "011423c2-3491-4581-d16e-001397f3df47"
      },
      "source": [
        "from google.colab import drive\n",
        "drive.mount('/content/drive')"
      ],
      "execution_count": 1,
      "outputs": [
        {
          "output_type": "stream",
          "text": [
            "Mounted at /content/drive\n"
          ],
          "name": "stdout"
        }
      ]
    },
    {
      "cell_type": "code",
      "metadata": {
        "colab": {
          "base_uri": "https://localhost:8080/"
        },
        "id": "8b4v-2eTzyxY",
        "outputId": "36768f73-3f48-4699-e3d1-8fe71c19be8b"
      },
      "source": [
        "!pip install fastai --uprade -q\n"
      ],
      "execution_count": 2,
      "outputs": [
        {
          "output_type": "stream",
          "text": [
            "\n",
            "Usage:   \n",
            "  pip3 install [options] <requirement specifier> [package-index-options] ...\n",
            "  pip3 install [options] -r <requirements file> [package-index-options] ...\n",
            "  pip3 install [options] [-e] <vcs project url> ...\n",
            "  pip3 install [options] [-e] <local project path> ...\n",
            "  pip3 install [options] <archive url/path> ...\n",
            "\n",
            "no such option: --uprade\n"
          ],
          "name": "stdout"
        }
      ]
    },
    {
      "cell_type": "code",
      "metadata": {
        "colab": {
          "base_uri": "https://localhost:8080/"
        },
        "id": "vCZZltLc2V2A",
        "outputId": "ee38338b-4a8d-461f-bcc8-0525921e0ef1"
      },
      "source": [
        "!pip install -U fastai"
      ],
      "execution_count": 3,
      "outputs": [
        {
          "output_type": "stream",
          "text": [
            "Collecting fastai\n",
            "\u001b[?25l  Downloading https://files.pythonhosted.org/packages/5b/53/edf39e15b7ec5e805a0b6f72adbe48497ebcfa009a245eca7044ae9ee1c6/fastai-2.3.0-py3-none-any.whl (193kB)\n",
            "\r\u001b[K     |█▊                              | 10kB 13.6MB/s eta 0:00:01\r\u001b[K     |███▍                            | 20kB 19.1MB/s eta 0:00:01\r\u001b[K     |█████                           | 30kB 16.3MB/s eta 0:00:01\r\u001b[K     |██████▊                         | 40kB 14.1MB/s eta 0:00:01\r\u001b[K     |████████▌                       | 51kB 8.9MB/s eta 0:00:01\r\u001b[K     |██████████▏                     | 61kB 9.1MB/s eta 0:00:01\r\u001b[K     |███████████▉                    | 71kB 8.6MB/s eta 0:00:01\r\u001b[K     |█████████████▌                  | 81kB 9.5MB/s eta 0:00:01\r\u001b[K     |███████████████▏                | 92kB 9.9MB/s eta 0:00:01\r\u001b[K     |█████████████████               | 102kB 8.4MB/s eta 0:00:01\r\u001b[K     |██████████████████▋             | 112kB 8.4MB/s eta 0:00:01\r\u001b[K     |████████████████████▎           | 122kB 8.4MB/s eta 0:00:01\r\u001b[K     |██████████████████████          | 133kB 8.4MB/s eta 0:00:01\r\u001b[K     |███████████████████████▊        | 143kB 8.4MB/s eta 0:00:01\r\u001b[K     |█████████████████████████▍      | 153kB 8.4MB/s eta 0:00:01\r\u001b[K     |███████████████████████████     | 163kB 8.4MB/s eta 0:00:01\r\u001b[K     |████████████████████████████▊   | 174kB 8.4MB/s eta 0:00:01\r\u001b[K     |██████████████████████████████▍ | 184kB 8.4MB/s eta 0:00:01\r\u001b[K     |████████████████████████████████| 194kB 8.4MB/s \n",
            "\u001b[?25hRequirement already satisfied, skipping upgrade: fastprogress>=0.2.4 in /usr/local/lib/python3.7/dist-packages (from fastai) (1.0.0)\n",
            "Requirement already satisfied, skipping upgrade: packaging in /usr/local/lib/python3.7/dist-packages (from fastai) (20.9)\n",
            "Collecting torchvision<0.9,>=0.8\n",
            "\u001b[?25l  Downloading https://files.pythonhosted.org/packages/94/df/969e69a94cff1c8911acb0688117f95e1915becc1e01c73e7960a2c76ec8/torchvision-0.8.2-cp37-cp37m-manylinux1_x86_64.whl (12.8MB)\n",
            "\u001b[K     |████████████████████████████████| 12.8MB 318kB/s \n",
            "\u001b[?25hCollecting fastcore<1.4,>=1.3.8\n",
            "\u001b[?25l  Downloading https://files.pythonhosted.org/packages/0c/98/60404e2817cff113a6ae4023bc1772e23179408fdf7857fa410551758dfe/fastcore-1.3.19-py3-none-any.whl (53kB)\n",
            "\u001b[K     |████████████████████████████████| 61kB 6.5MB/s \n",
            "\u001b[?25hRequirement already satisfied, skipping upgrade: requests in /usr/local/lib/python3.7/dist-packages (from fastai) (2.23.0)\n",
            "Requirement already satisfied, skipping upgrade: scikit-learn in /usr/local/lib/python3.7/dist-packages (from fastai) (0.22.2.post1)\n",
            "Requirement already satisfied, skipping upgrade: pyyaml in /usr/local/lib/python3.7/dist-packages (from fastai) (3.13)\n",
            "Requirement already satisfied, skipping upgrade: pillow>6.0.0 in /usr/local/lib/python3.7/dist-packages (from fastai) (7.1.2)\n",
            "Collecting torch<1.8,>=1.7.0\n",
            "\u001b[?25l  Downloading https://files.pythonhosted.org/packages/90/5d/095ddddc91c8a769a68c791c019c5793f9c4456a688ddd235d6670924ecb/torch-1.7.1-cp37-cp37m-manylinux1_x86_64.whl (776.8MB)\n",
            "\u001b[K     |████████████████████████████████| 776.8MB 23kB/s \n",
            "\u001b[?25hRequirement already satisfied, skipping upgrade: pandas in /usr/local/lib/python3.7/dist-packages (from fastai) (1.1.5)\n",
            "Requirement already satisfied, skipping upgrade: matplotlib in /usr/local/lib/python3.7/dist-packages (from fastai) (3.2.2)\n",
            "Requirement already satisfied, skipping upgrade: spacy<3 in /usr/local/lib/python3.7/dist-packages (from fastai) (2.2.4)\n",
            "Requirement already satisfied, skipping upgrade: scipy in /usr/local/lib/python3.7/dist-packages (from fastai) (1.4.1)\n",
            "Requirement already satisfied, skipping upgrade: pip in /usr/local/lib/python3.7/dist-packages (from fastai) (19.3.1)\n",
            "Requirement already satisfied, skipping upgrade: numpy in /usr/local/lib/python3.7/dist-packages (from fastprogress>=0.2.4->fastai) (1.19.5)\n",
            "Requirement already satisfied, skipping upgrade: pyparsing>=2.0.2 in /usr/local/lib/python3.7/dist-packages (from packaging->fastai) (2.4.7)\n",
            "Requirement already satisfied, skipping upgrade: certifi>=2017.4.17 in /usr/local/lib/python3.7/dist-packages (from requests->fastai) (2020.12.5)\n",
            "Requirement already satisfied, skipping upgrade: urllib3!=1.25.0,!=1.25.1,<1.26,>=1.21.1 in /usr/local/lib/python3.7/dist-packages (from requests->fastai) (1.24.3)\n",
            "Requirement already satisfied, skipping upgrade: chardet<4,>=3.0.2 in /usr/local/lib/python3.7/dist-packages (from requests->fastai) (3.0.4)\n",
            "Requirement already satisfied, skipping upgrade: idna<3,>=2.5 in /usr/local/lib/python3.7/dist-packages (from requests->fastai) (2.10)\n",
            "Requirement already satisfied, skipping upgrade: joblib>=0.11 in /usr/local/lib/python3.7/dist-packages (from scikit-learn->fastai) (1.0.1)\n",
            "Requirement already satisfied, skipping upgrade: typing-extensions in /usr/local/lib/python3.7/dist-packages (from torch<1.8,>=1.7.0->fastai) (3.7.4.3)\n",
            "Requirement already satisfied, skipping upgrade: pytz>=2017.2 in /usr/local/lib/python3.7/dist-packages (from pandas->fastai) (2018.9)\n",
            "Requirement already satisfied, skipping upgrade: python-dateutil>=2.7.3 in /usr/local/lib/python3.7/dist-packages (from pandas->fastai) (2.8.1)\n",
            "Requirement already satisfied, skipping upgrade: kiwisolver>=1.0.1 in /usr/local/lib/python3.7/dist-packages (from matplotlib->fastai) (1.3.1)\n",
            "Requirement already satisfied, skipping upgrade: cycler>=0.10 in /usr/local/lib/python3.7/dist-packages (from matplotlib->fastai) (0.10.0)\n",
            "Requirement already satisfied, skipping upgrade: tqdm<5.0.0,>=4.38.0 in /usr/local/lib/python3.7/dist-packages (from spacy<3->fastai) (4.41.1)\n",
            "Requirement already satisfied, skipping upgrade: setuptools in /usr/local/lib/python3.7/dist-packages (from spacy<3->fastai) (54.2.0)\n",
            "Requirement already satisfied, skipping upgrade: catalogue<1.1.0,>=0.0.7 in /usr/local/lib/python3.7/dist-packages (from spacy<3->fastai) (1.0.0)\n",
            "Requirement already satisfied, skipping upgrade: cymem<2.1.0,>=2.0.2 in /usr/local/lib/python3.7/dist-packages (from spacy<3->fastai) (2.0.5)\n",
            "Requirement already satisfied, skipping upgrade: murmurhash<1.1.0,>=0.28.0 in /usr/local/lib/python3.7/dist-packages (from spacy<3->fastai) (1.0.5)\n",
            "Requirement already satisfied, skipping upgrade: wasabi<1.1.0,>=0.4.0 in /usr/local/lib/python3.7/dist-packages (from spacy<3->fastai) (0.8.2)\n",
            "Requirement already satisfied, skipping upgrade: plac<1.2.0,>=0.9.6 in /usr/local/lib/python3.7/dist-packages (from spacy<3->fastai) (1.1.3)\n",
            "Requirement already satisfied, skipping upgrade: blis<0.5.0,>=0.4.0 in /usr/local/lib/python3.7/dist-packages (from spacy<3->fastai) (0.4.1)\n",
            "Requirement already satisfied, skipping upgrade: srsly<1.1.0,>=1.0.2 in /usr/local/lib/python3.7/dist-packages (from spacy<3->fastai) (1.0.5)\n",
            "Requirement already satisfied, skipping upgrade: thinc==7.4.0 in /usr/local/lib/python3.7/dist-packages (from spacy<3->fastai) (7.4.0)\n",
            "Requirement already satisfied, skipping upgrade: preshed<3.1.0,>=3.0.2 in /usr/local/lib/python3.7/dist-packages (from spacy<3->fastai) (3.0.5)\n",
            "Requirement already satisfied, skipping upgrade: six>=1.5 in /usr/local/lib/python3.7/dist-packages (from python-dateutil>=2.7.3->pandas->fastai) (1.15.0)\n",
            "Requirement already satisfied, skipping upgrade: importlib-metadata>=0.20; python_version < \"3.8\" in /usr/local/lib/python3.7/dist-packages (from catalogue<1.1.0,>=0.0.7->spacy<3->fastai) (3.10.0)\n",
            "Requirement already satisfied, skipping upgrade: zipp>=0.5 in /usr/local/lib/python3.7/dist-packages (from importlib-metadata>=0.20; python_version < \"3.8\"->catalogue<1.1.0,>=0.0.7->spacy<3->fastai) (3.4.1)\n",
            "\u001b[31mERROR: torchtext 0.9.1 has requirement torch==1.8.1, but you'll have torch 1.7.1 which is incompatible.\u001b[0m\n",
            "Installing collected packages: torch, torchvision, fastcore, fastai\n",
            "  Found existing installation: torch 1.8.1+cu101\n",
            "    Uninstalling torch-1.8.1+cu101:\n",
            "      Successfully uninstalled torch-1.8.1+cu101\n",
            "  Found existing installation: torchvision 0.9.1+cu101\n",
            "    Uninstalling torchvision-0.9.1+cu101:\n",
            "      Successfully uninstalled torchvision-0.9.1+cu101\n",
            "  Found existing installation: fastai 1.0.61\n",
            "    Uninstalling fastai-1.0.61:\n",
            "      Successfully uninstalled fastai-1.0.61\n",
            "Successfully installed fastai-2.3.0 fastcore-1.3.19 torch-1.7.1 torchvision-0.8.2\n"
          ],
          "name": "stdout"
        }
      ]
    },
    {
      "cell_type": "code",
      "metadata": {
        "id": "dTTQ26MR2Xme"
      },
      "source": [
        "from fastai.vision.all import*"
      ],
      "execution_count": 4,
      "outputs": []
    },
    {
      "cell_type": "code",
      "metadata": {
        "id": "6nTWGNUn2d2o"
      },
      "source": [
        "import ipywidgets as widgets"
      ],
      "execution_count": 5,
      "outputs": []
    },
    {
      "cell_type": "code",
      "metadata": {
        "colab": {
          "base_uri": "https://localhost:8080/",
          "height": 49,
          "referenced_widgets": [
            "222ae244e1e94f9283146ca6b75ebec0",
            "08ff58a3276a4a8f8384ccfa53c87c22",
            "9685608b5ed5482988346a1e34f25d5d"
          ]
        },
        "id": "yK8a6Fjz3_gh",
        "outputId": "adacd48b-a081-40c6-c38e-da4b5024b3ba"
      },
      "source": [
        "btn_upload = widgets.FileUpload()\n",
        "btn_upload"
      ],
      "execution_count": 6,
      "outputs": [
        {
          "output_type": "display_data",
          "data": {
            "application/vnd.jupyter.widget-view+json": {
              "model_id": "222ae244e1e94f9283146ca6b75ebec0",
              "version_minor": 0,
              "version_major": 2
            },
            "text/plain": [
              "FileUpload(value={}, description='Upload')"
            ]
          },
          "metadata": {
            "tags": []
          }
        }
      ]
    },
    {
      "cell_type": "code",
      "metadata": {
        "id": "4Z9EgTTB4YrU"
      },
      "source": [
        "img= PILImage.create(btn_upload.data[-1])"
      ],
      "execution_count": 11,
      "outputs": []
    },
    {
      "cell_type": "code",
      "metadata": {
        "colab": {
          "base_uri": "https://localhost:8080/",
          "height": 145,
          "referenced_widgets": [
            "2c13b00a205a429586d34964700fffd8",
            "95db9f72ee514549b8e910c045ce9fdf"
          ]
        },
        "id": "NwW_305n4GyT",
        "outputId": "1939240a-fd75-4ec4-f97f-e5b322cdc78a"
      },
      "source": [
        "out_p1 = widgets.Output()\n",
        "out_p1.clear_output()\n",
        "with out_p1: display(img.to_thumb(128,128))\n",
        "out_p1"
      ],
      "execution_count": 12,
      "outputs": [
        {
          "output_type": "display_data",
          "data": {
            "application/vnd.jupyter.widget-view+json": {
              "model_id": "2c13b00a205a429586d34964700fffd8",
              "version_minor": 0,
              "version_major": 2
            },
            "text/plain": [
              "Output()"
            ]
          },
          "metadata": {
            "tags": []
          }
        }
      ]
    },
    {
      "cell_type": "code",
      "metadata": {
        "id": "Z2uQ5WNw5v-i"
      },
      "source": [
        "!cp drive/MyDrive/Biersortenerkenner/biersorten_classifier.pkl ./"
      ],
      "execution_count": 13,
      "outputs": []
    },
    {
      "cell_type": "code",
      "metadata": {
        "id": "HbtjQwGe4w6U"
      },
      "source": [
        "path = Path();\n",
        "\n",
        "inference = load_learner(path/'biersorten_classifier.pkl')"
      ],
      "execution_count": 14,
      "outputs": []
    },
    {
      "cell_type": "code",
      "metadata": {
        "colab": {
          "base_uri": "https://localhost:8080/",
          "height": 17
        },
        "id": "dTPdammL5241",
        "outputId": "cd996b27-8b66-4300-ffc5-dec77d18616e"
      },
      "source": [
        "pred,pred_idx,probs = inference.predict(img)"
      ],
      "execution_count": 16,
      "outputs": [
        {
          "output_type": "display_data",
          "data": {
            "text/html": [
              ""
            ],
            "text/plain": [
              "<IPython.core.display.HTML object>"
            ]
          },
          "metadata": {
            "tags": []
          }
        }
      ]
    },
    {
      "cell_type": "code",
      "metadata": {
        "colab": {
          "base_uri": "https://localhost:8080/",
          "height": 49,
          "referenced_widgets": [
            "4951b3644af949488d247bcdd2c55811",
            "62762c81dcea4c77b7a88266b9d22caa",
            "a3fba80a4bf346609d9a70e0da39d35d"
          ]
        },
        "id": "BKTjuhqo6vKz",
        "outputId": "2e40444f-9fe3-4572-db1e-973ecd7f4b1d"
      },
      "source": [
        "lbl_pred = widgets.Label()\n",
        "lbl_pred.value = f'Prediction: {pred} ; Probability: {probs[pred_idx]:.04f}'\n",
        "lbl_pred"
      ],
      "execution_count": 17,
      "outputs": [
        {
          "output_type": "display_data",
          "data": {
            "application/vnd.jupyter.widget-view+json": {
              "model_id": "4951b3644af949488d247bcdd2c55811",
              "version_minor": 0,
              "version_major": 2
            },
            "text/plain": [
              "Label(value='Prediction: guinness_west_indies_porter ; Probability: 1.0000')"
            ]
          },
          "metadata": {
            "tags": []
          }
        }
      ]
    },
    {
      "cell_type": "code",
      "metadata": {
        "colab": {
          "base_uri": "https://localhost:8080/",
          "height": 49,
          "referenced_widgets": [
            "735c88a3d14249bfa918c68ea1be7fc1",
            "eca08a9d923547ca81fffa6c0030ef81",
            "ca49eef9dbd9471eb7fec34059512999"
          ]
        },
        "id": "fDBDrl8H8RLR",
        "outputId": "86fe5b40-663d-42c5-a2bb-3ed27cefa916"
      },
      "source": [
        "btn_run = widgets.Button(description = 'Classify')\n",
        "btn_run"
      ],
      "execution_count": 18,
      "outputs": [
        {
          "output_type": "display_data",
          "data": {
            "application/vnd.jupyter.widget-view+json": {
              "model_id": "735c88a3d14249bfa918c68ea1be7fc1",
              "version_minor": 0,
              "version_major": 2
            },
            "text/plain": [
              "Button(description='Classify', style=ButtonStyle())"
            ]
          },
          "metadata": {
            "tags": []
          }
        }
      ]
    },
    {
      "cell_type": "code",
      "metadata": {
        "id": "cSZ6zDqZ7aE7"
      },
      "source": [
        "def on_click_classify(change):\n",
        "  img = PILImage.create(btn_upload.data[-1])\n",
        "  out_p1.clear_output()\n",
        "  with out_p1: display(img.to_thumb(128,128))\n",
        "  pred,pred_idx,probs = inference.predict(img)\n",
        "  lbl_pred.value = f'Prediction: {pred} ; Probability: {probs[pred_idx]:.04f}'\n",
        "\n",
        "btn_run.on_click(on_click_classify)"
      ],
      "execution_count": 19,
      "outputs": []
    },
    {
      "cell_type": "code",
      "metadata": {
        "colab": {
          "base_uri": "https://localhost:8080/",
          "height": 273,
          "referenced_widgets": [
            "c8612e180d724d40bc3a53716cc9a427",
            "ead9cdc00b4d4410b34d7c83b0221194",
            "e3c316d527c144478aa546fc9fabee41",
            "fde018d7462a450fb9e1f6cf7817835d",
            "735c88a3d14249bfa918c68ea1be7fc1",
            "2c13b00a205a429586d34964700fffd8",
            "4951b3644af949488d247bcdd2c55811",
            "fea8cdfe1e2648978c203ac415b27e0a",
            "e2678e7401094888aac851b5f79cc77d",
            "c97455e7128047ee948010048acd31e8",
            "c54e9245aa884cde821f6114912f0481",
            "eca08a9d923547ca81fffa6c0030ef81",
            "ca49eef9dbd9471eb7fec34059512999",
            "62762c81dcea4c77b7a88266b9d22caa",
            "a3fba80a4bf346609d9a70e0da39d35d",
            "95db9f72ee514549b8e910c045ce9fdf"
          ]
        },
        "id": "oxWxJGeJ8kv5",
        "outputId": "fcd6cb71-343b-47e4-a6c6-f7de5043efa5"
      },
      "source": [
        "btn_upload = widgets.FileUpload()\n",
        "widgets.VBox([widgets.Label('Select your beer'),\n",
        "      btn_upload, btn_run,out_p1,lbl_pred])"
      ],
      "execution_count": 20,
      "outputs": [
        {
          "output_type": "display_data",
          "data": {
            "application/vnd.jupyter.widget-view+json": {
              "model_id": "c8612e180d724d40bc3a53716cc9a427",
              "version_minor": 0,
              "version_major": 2
            },
            "text/plain": [
              "VBox(children=(Label(value='Select your beer'), FileUpload(value={}, description='Upload'), Button(description…"
            ]
          },
          "metadata": {
            "tags": []
          }
        }
      ]
    },
    {
      "cell_type": "code",
      "metadata": {
        "id": "zM3L6odi9CUG"
      },
      "source": [
        ""
      ],
      "execution_count": null,
      "outputs": []
    }
  ]
}