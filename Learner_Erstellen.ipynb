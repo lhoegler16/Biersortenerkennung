{
  "nbformat": 4,
  "nbformat_minor": 0,
  "metadata": {
    "colab": {
      "name": "Untitled0.ipynb",
      "private_outputs": true,
      "provenance": [],
      "collapsed_sections": [],
      "authorship_tag": "ABX9TyOhCnjUEyiRTfGAtOd9D7a/",
      "include_colab_link": true
    },
    "kernelspec": {
      "name": "python3",
      "display_name": "Python 3"
    },
    "language_info": {
      "name": "python"
    },
    "accelerator": "GPU"
  },
  "cells": [
    {
      "cell_type": "markdown",
      "metadata": {
        "id": "view-in-github",
        "colab_type": "text"
      },
      "source": [
        "<a href=\"https://colab.research.google.com/github/lhoegler16/Biersortenerkennung/blob/Marcel/Learner_Erstellen.ipynb\" target=\"_parent\"><img src=\"https://colab.research.google.com/assets/colab-badge.svg\" alt=\"Open In Colab\"/></a>"
      ]
    },
    {
      "cell_type": "code",
      "metadata": {
        "id": "evT-qvBHIP7v"
      },
      "source": [
        "from google.colab import drive\n",
        "drive.mount('/content/drive')"
      ],
      "execution_count": null,
      "outputs": []
    },
    {
      "cell_type": "code",
      "metadata": {
        "id": "dwLDHWRLDnja"
      },
      "source": [
        "!pip install fastai --uprade -q"
      ],
      "execution_count": null,
      "outputs": []
    },
    {
      "cell_type": "code",
      "metadata": {
        "id": "NP21Z-Eta-3Q"
      },
      "source": [
        "!pip install -U fastai\n"
      ],
      "execution_count": null,
      "outputs": []
    },
    {
      "cell_type": "code",
      "metadata": {
        "id": "_2a9Fj2RNByg"
      },
      "source": [
        "from fastai.vision.all import*"
      ],
      "execution_count": null,
      "outputs": []
    },
    {
      "cell_type": "code",
      "metadata": {
        "id": "8DtEuTl3NIV7"
      },
      "source": [
        "#!cp -av  /content/drive/MyDrive\\ Drive/saab_images/saab_images.tar.gz ./\n",
        "#!mkdir /content/images/\n",
        "#!tar -xf saab-images.tar.gz -C /content/images/"
      ],
      "execution_count": null,
      "outputs": []
    },
    {
      "cell_type": "code",
      "metadata": {
        "id": "TGfiLpx5N2Ih"
      },
      "source": [
        "path = Path('images')\n",
        "failed = verify_images(get_image_files(path))\n",
        "failed.map(Path.unlink);"
      ],
      "execution_count": null,
      "outputs": []
    },
    {
      "cell_type": "code",
      "metadata": {
        "id": "bhQDgQY2OE6l"
      },
      "source": [
        "cars = Datablock{\n",
        "    blocks=(ImageBlock, CategoryBlock),\n",
        "    get_items=get_image_files,\n",
        "    splitter=RandomSplitter(valid_pct=0.2, seed=42),\n",
        "    get_y=parent_label,\n",
        "    item_tfms=Resize(128))\n",
        "}"
      ],
      "execution_count": null,
      "outputs": []
    },
    {
      "cell_type": "code",
      "metadata": {
        "id": "JzDAkrRYOv9Z"
      },
      "source": [
        "dls= cars.dataloaders(path)"
      ],
      "execution_count": null,
      "outputs": []
    },
    {
      "cell_type": "code",
      "metadata": {
        "id": "mLwGpwp4UEVG"
      },
      "source": [
        "dls.show_batch(max_n = 4, nrows= 1)"
      ],
      "execution_count": null,
      "outputs": []
    },
    {
      "cell_type": "code",
      "metadata": {
        "id": "FjRoMV4UUzeZ"
      },
      "source": [
        "learn= cnn_learner(dls,resnet18,metrics=error_rate)\n",
        "learn.fine_tune(4)"
      ],
      "execution_count": null,
      "outputs": []
    },
    {
      "cell_type": "code",
      "metadata": {
        "id": "Loq6J934Vbyf"
      },
      "source": [
        "learn.export('saab_cars_classifier.pkl')"
      ],
      "execution_count": null,
      "outputs": []
    },
    {
      "cell_type": "code",
      "metadata": {
        "id": "A6iJHnoNVqv5"
      },
      "source": [
        "path = Path()\n",
        "path.ls(file_exts='.pkl')"
      ],
      "execution_count": null,
      "outputs": []
    },
    {
      "cell_type": "code",
      "metadata": {
        "id": "UbG7-UR5WGKu"
      },
      "source": [
        "#copy learner on gdrive\n",
        "!cp /conten/saab_cars_classifier.pkl /content/drive/MyDrive\\ Drive/saab_images/saav_bier_classifier.pkl"
      ],
      "execution_count": null,
      "outputs": []
    },
    {
      "cell_type": "code",
      "metadata": {
        "id": "daClocUUWpjS"
      },
      "source": [
        "#copy exported learner from gdrive\n",
        "#!cp /conten/drive/MyDrive\\ Drive/saab_bier_classifier.pkl ./"
      ],
      "execution_count": null,
      "outputs": []
    },
    {
      "cell_type": "code",
      "metadata": {
        "id": "4xOlP1elW8Zw"
      },
      "source": [
        "inference = load_learner(path/'saab_bier_classifier.pkl') "
      ],
      "execution_count": null,
      "outputs": []
    },
    {
      "cell_type": "code",
      "metadata": {
        "id": "MW67RdSmXqxV"
      },
      "source": [
        "inference.predict('Bilddatei eingeben')"
      ],
      "execution_count": null,
      "outputs": []
    },
    {
      "cell_type": "code",
      "metadata": {
        "id": "Yp0S9fHaYJEX"
      },
      "source": [
        ""
      ],
      "execution_count": null,
      "outputs": []
    },
    {
      "cell_type": "code",
      "metadata": {
        "id": "lGOFQu_jbDRf"
      },
      "source": [
        "import requests\n",
        "import matplotlib.pyplot as plt\n",
        "from PIL import Image\n",
        "from io import BytesIO\n",
        "\n",
        "subscription_key = \"47fb617ff9c74f349130a0be97a44fbd\"\n",
        "search_url = \"https://api.bing.microsoft.com/v7.0/images/search\"\n",
        "search_term = \"Zipfer Märzen\""
      ],
      "execution_count": null,
      "outputs": []
    },
    {
      "cell_type": "code",
      "metadata": {
        "id": "0ZV0kPhQcJyY"
      },
      "source": [
        "headers = {\"Ocp-Apim-Subscription-Key\" : subscription_key}"
      ],
      "execution_count": null,
      "outputs": []
    },
    {
      "cell_type": "code",
      "metadata": {
        "id": "RDe8zVJe_s4_"
      },
      "source": [
        "params  = [{\"q\": \"Zipfer Märzen\", \"license\": \"public\", \"imageType\": \"photo\"},{\"q\": \"Zipfer Urtyp\", \"license\": \"public\", \"imageType\": \"photo\"},\n",
        "           {\"q\": \"Zipfer Pils\", \"license\": \"public\", \"imageType\": \"photo\"},{\"q\": \"Zipfer Sparkling\", \"license\": \"public\", \"imageType\": \"photo\"},\n",
        "           {\"q\": \"Zipfer Hell\", \"license\": \"public\", \"imageType\": \"photo\"},{\"q\": \"Zipfer Drei\", \"license\": \"public\", \"imageType\": \"photo\"},\n",
        "           {\"q\": \"Zipfer Doppelgold\", \"license\": \"public\", \"imageType\": \"photo\"}]\n",
        "           "
      ],
      "execution_count": null,
      "outputs": []
    },
    {
      "cell_type": "code",
      "metadata": {
        "id": "HAW5Fd9sEsUt"
      },
      "source": [
        ""
      ],
      "execution_count": null,
      "outputs": []
    },
    {
      "cell_type": "code",
      "metadata": {
        "id": "tVAajIatIRNx"
      },
      "source": [
        "!tar -czvf saab_images.tar.gz images/saab"
      ],
      "execution_count": null,
      "outputs": []
    },
    {
      "cell_type": "code",
      "metadata": {
        "id": "id7dgQDGI8i3"
      },
      "source": [
        "#copy to qdrive\n",
        "!cp -av saab_images.tar.gz /content/drive/MyDrive\\ Drive/saab_images/"
      ],
      "execution_count": null,
      "outputs": []
    },
    {
      "cell_type": "code",
      "metadata": {
        "id": "fR_LzlBnLuRZ"
      },
      "source": [
        "#download from qdrive\n",
        "#icp /content/drive/MyDrive\\ Drive/saab_images/saab_images.tar.qz ./"
      ],
      "execution_count": null,
      "outputs": []
    },
    {
      "cell_type": "code",
      "metadata": {
        "id": "2_cqhRldMSUm"
      },
      "source": [
        "#untar images\n",
        "#!tar -xf saab-images.tar.gz -C /content/images/"
      ],
      "execution_count": null,
      "outputs": []
    },
    {
      "cell_type": "code",
      "metadata": {
        "id": "cuUko-PgMc8u"
      },
      "source": [
        "#!"
      ],
      "execution_count": null,
      "outputs": []
    }
  ]
}