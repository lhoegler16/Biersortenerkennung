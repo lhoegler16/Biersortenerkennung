{
  "nbformat": 4,
  "nbformat_minor": 0,
  "metadata": {
    "colab": {
      "name": "Application_Biersortenerkenner.ipynb",
      "provenance": [],
      "toc_visible": true,
      "include_colab_link": true
    },
    "kernelspec": {
      "name": "python3",
      "display_name": "Python 3"
    },
    "language_info": {
      "name": "python"
    },
    "widgets": {
      "application/vnd.jupyter.widget-state+json": {
        "8cea0b5251364342ba128f22b18743be": {
          "model_module": "@jupyter-widgets/controls",
          "model_name": "FileUploadModel",
          "state": {
            "_view_name": "FileUploadView",
            "_counter": 1,
            "style": "IPY_MODEL_4c74989734eb4042bcc580f4a03f5f33",
            "_dom_classes": [],
            "description": "Upload",
            "multiple": false,
            "_model_name": "FileUploadModel",
            "data": [
              null
            ],
            "button_style": "",
            "_view_module": "@jupyter-widgets/controls",
            "_model_module_version": "1.5.0",
            "accept": "",
            "_view_count": null,
            "disabled": false,
            "_view_module_version": "1.5.0",
            "error": "",
            "description_tooltip": null,
            "metadata": [
              {
                "name": "baumgartner_test_03.jpg",
                "type": "image/jpeg",
                "size": 612929,
                "lastModified": 1617648630525
              }
            ],
            "_model_module": "@jupyter-widgets/controls",
            "layout": "IPY_MODEL_31a8025e8c844cb1b1ff534cc0e103f5",
            "icon": "upload"
          }
        },
        "4c74989734eb4042bcc580f4a03f5f33": {
          "model_module": "@jupyter-widgets/controls",
          "model_name": "ButtonStyleModel",
          "state": {
            "_view_name": "StyleView",
            "_model_name": "ButtonStyleModel",
            "_view_module": "@jupyter-widgets/base",
            "_model_module_version": "1.5.0",
            "_view_count": null,
            "button_color": null,
            "font_weight": "",
            "_view_module_version": "1.2.0",
            "_model_module": "@jupyter-widgets/controls"
          }
        },
        "31a8025e8c844cb1b1ff534cc0e103f5": {
          "model_module": "@jupyter-widgets/base",
          "model_name": "LayoutModel",
          "state": {
            "_view_name": "LayoutView",
            "grid_template_rows": null,
            "right": null,
            "justify_content": null,
            "_view_module": "@jupyter-widgets/base",
            "overflow": null,
            "_model_module_version": "1.2.0",
            "_view_count": null,
            "flex_flow": null,
            "width": null,
            "min_width": null,
            "border": null,
            "align_items": null,
            "bottom": null,
            "_model_module": "@jupyter-widgets/base",
            "top": null,
            "grid_column": null,
            "overflow_y": null,
            "overflow_x": null,
            "grid_auto_flow": null,
            "grid_area": null,
            "grid_template_columns": null,
            "flex": null,
            "_model_name": "LayoutModel",
            "justify_items": null,
            "grid_row": null,
            "max_height": null,
            "align_content": null,
            "visibility": null,
            "align_self": null,
            "height": null,
            "min_height": null,
            "padding": null,
            "grid_auto_rows": null,
            "grid_gap": null,
            "max_width": null,
            "order": null,
            "_view_module_version": "1.2.0",
            "grid_template_areas": null,
            "object_position": null,
            "object_fit": null,
            "grid_auto_columns": null,
            "margin": null,
            "display": null,
            "left": null
          }
        },
        "22932dcb773f44269b49232568a1c8f5": {
          "model_module": "@jupyter-widgets/output",
          "model_name": "OutputModel",
          "state": {
            "_view_name": "OutputView",
            "msg_id": "",
            "_dom_classes": [],
            "_model_name": "OutputModel",
            "outputs": [
              {
                "output_type": "display_data",
                "metadata": {
                  "tags": []
                },
                "image/png": "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\n",
                "text/plain": "<PIL.Image.Image image mode=RGB size=96x128 at 0x7F190A1508D0>"
              }
            ],
            "_view_module": "@jupyter-widgets/output",
            "_model_module_version": "1.0.0",
            "_view_count": null,
            "_view_module_version": "1.0.0",
            "layout": "IPY_MODEL_a1e6a5cfd7b84478a1be535a30225ee1",
            "_model_module": "@jupyter-widgets/output"
          }
        },
        "a1e6a5cfd7b84478a1be535a30225ee1": {
          "model_module": "@jupyter-widgets/base",
          "model_name": "LayoutModel",
          "state": {
            "_view_name": "LayoutView",
            "grid_template_rows": null,
            "right": null,
            "justify_content": null,
            "_view_module": "@jupyter-widgets/base",
            "overflow": null,
            "_model_module_version": "1.2.0",
            "_view_count": null,
            "flex_flow": null,
            "width": null,
            "min_width": null,
            "border": null,
            "align_items": null,
            "bottom": null,
            "_model_module": "@jupyter-widgets/base",
            "top": null,
            "grid_column": null,
            "overflow_y": null,
            "overflow_x": null,
            "grid_auto_flow": null,
            "grid_area": null,
            "grid_template_columns": null,
            "flex": null,
            "_model_name": "LayoutModel",
            "justify_items": null,
            "grid_row": null,
            "max_height": null,
            "align_content": null,
            "visibility": null,
            "align_self": null,
            "height": null,
            "min_height": null,
            "padding": null,
            "grid_auto_rows": null,
            "grid_gap": null,
            "max_width": null,
            "order": null,
            "_view_module_version": "1.2.0",
            "grid_template_areas": null,
            "object_position": null,
            "object_fit": null,
            "grid_auto_columns": null,
            "margin": null,
            "display": null,
            "left": null
          }
        },
        "2f9eb0cdfab74a93aaec25a90ad74a0d": {
          "model_module": "@jupyter-widgets/controls",
          "model_name": "LabelModel",
          "state": {
            "_view_name": "LabelView",
            "style": "IPY_MODEL_a9bfd80e494b4f7aa3e3e5e602acae98",
            "_dom_classes": [],
            "description": "",
            "_model_name": "LabelModel",
            "placeholder": "​",
            "_view_module": "@jupyter-widgets/controls",
            "_model_module_version": "1.5.0",
            "value": "Prediction: rieder_maerzen ; Probability: 0.9996",
            "_view_count": null,
            "_view_module_version": "1.5.0",
            "description_tooltip": null,
            "_model_module": "@jupyter-widgets/controls",
            "layout": "IPY_MODEL_51f501a116f84f419fba519c6595fd6e"
          }
        },
        "a9bfd80e494b4f7aa3e3e5e602acae98": {
          "model_module": "@jupyter-widgets/controls",
          "model_name": "DescriptionStyleModel",
          "state": {
            "_view_name": "StyleView",
            "_model_name": "DescriptionStyleModel",
            "description_width": "",
            "_view_module": "@jupyter-widgets/base",
            "_model_module_version": "1.5.0",
            "_view_count": null,
            "_view_module_version": "1.2.0",
            "_model_module": "@jupyter-widgets/controls"
          }
        },
        "51f501a116f84f419fba519c6595fd6e": {
          "model_module": "@jupyter-widgets/base",
          "model_name": "LayoutModel",
          "state": {
            "_view_name": "LayoutView",
            "grid_template_rows": null,
            "right": null,
            "justify_content": null,
            "_view_module": "@jupyter-widgets/base",
            "overflow": null,
            "_model_module_version": "1.2.0",
            "_view_count": null,
            "flex_flow": null,
            "width": null,
            "min_width": null,
            "border": null,
            "align_items": null,
            "bottom": null,
            "_model_module": "@jupyter-widgets/base",
            "top": null,
            "grid_column": null,
            "overflow_y": null,
            "overflow_x": null,
            "grid_auto_flow": null,
            "grid_area": null,
            "grid_template_columns": null,
            "flex": null,
            "_model_name": "LayoutModel",
            "justify_items": null,
            "grid_row": null,
            "max_height": null,
            "align_content": null,
            "visibility": null,
            "align_self": null,
            "height": null,
            "min_height": null,
            "padding": null,
            "grid_auto_rows": null,
            "grid_gap": null,
            "max_width": null,
            "order": null,
            "_view_module_version": "1.2.0",
            "grid_template_areas": null,
            "object_position": null,
            "object_fit": null,
            "grid_auto_columns": null,
            "margin": null,
            "display": null,
            "left": null
          }
        },
        "c3f4cdabb66d4998a8e5a77786a35d46": {
          "model_module": "@jupyter-widgets/controls",
          "model_name": "ButtonModel",
          "state": {
            "_view_name": "ButtonView",
            "style": "IPY_MODEL_50abb48acde0437a87df3221f9d4cf84",
            "_dom_classes": [],
            "description": "Classify",
            "_model_name": "ButtonModel",
            "button_style": "",
            "_view_module": "@jupyter-widgets/controls",
            "_model_module_version": "1.5.0",
            "tooltip": "",
            "_view_count": null,
            "disabled": false,
            "_view_module_version": "1.5.0",
            "layout": "IPY_MODEL_890ed43d2fd64719ad0d6b946a1043e5",
            "_model_module": "@jupyter-widgets/controls",
            "icon": ""
          }
        },
        "50abb48acde0437a87df3221f9d4cf84": {
          "model_module": "@jupyter-widgets/controls",
          "model_name": "ButtonStyleModel",
          "state": {
            "_view_name": "StyleView",
            "_model_name": "ButtonStyleModel",
            "_view_module": "@jupyter-widgets/base",
            "_model_module_version": "1.5.0",
            "_view_count": null,
            "button_color": null,
            "font_weight": "",
            "_view_module_version": "1.2.0",
            "_model_module": "@jupyter-widgets/controls"
          }
        },
        "890ed43d2fd64719ad0d6b946a1043e5": {
          "model_module": "@jupyter-widgets/base",
          "model_name": "LayoutModel",
          "state": {
            "_view_name": "LayoutView",
            "grid_template_rows": null,
            "right": null,
            "justify_content": null,
            "_view_module": "@jupyter-widgets/base",
            "overflow": null,
            "_model_module_version": "1.2.0",
            "_view_count": null,
            "flex_flow": null,
            "width": null,
            "min_width": null,
            "border": null,
            "align_items": null,
            "bottom": null,
            "_model_module": "@jupyter-widgets/base",
            "top": null,
            "grid_column": null,
            "overflow_y": null,
            "overflow_x": null,
            "grid_auto_flow": null,
            "grid_area": null,
            "grid_template_columns": null,
            "flex": null,
            "_model_name": "LayoutModel",
            "justify_items": null,
            "grid_row": null,
            "max_height": null,
            "align_content": null,
            "visibility": null,
            "align_self": null,
            "height": null,
            "min_height": null,
            "padding": null,
            "grid_auto_rows": null,
            "grid_gap": null,
            "max_width": null,
            "order": null,
            "_view_module_version": "1.2.0",
            "grid_template_areas": null,
            "object_position": null,
            "object_fit": null,
            "grid_auto_columns": null,
            "margin": null,
            "display": null,
            "left": null
          }
        },
        "e165efcf93c64dea855b882d22d817d2": {
          "model_module": "@jupyter-widgets/controls",
          "model_name": "VBoxModel",
          "state": {
            "_view_name": "VBoxView",
            "_dom_classes": [],
            "_model_name": "VBoxModel",
            "_view_module": "@jupyter-widgets/controls",
            "_model_module_version": "1.5.0",
            "_view_count": null,
            "_view_module_version": "1.5.0",
            "box_style": "",
            "layout": "IPY_MODEL_de8538b227a644b8a0998ef1be1bb8f7",
            "_model_module": "@jupyter-widgets/controls",
            "children": [
              "IPY_MODEL_085ba69873a94ba4bc6b65a4326711b1",
              "IPY_MODEL_80bf825b40704025812ca7afc05d4086",
              "IPY_MODEL_c3f4cdabb66d4998a8e5a77786a35d46",
              "IPY_MODEL_22932dcb773f44269b49232568a1c8f5",
              "IPY_MODEL_2f9eb0cdfab74a93aaec25a90ad74a0d"
            ]
          }
        },
        "de8538b227a644b8a0998ef1be1bb8f7": {
          "model_module": "@jupyter-widgets/base",
          "model_name": "LayoutModel",
          "state": {
            "_view_name": "LayoutView",
            "grid_template_rows": null,
            "right": null,
            "justify_content": null,
            "_view_module": "@jupyter-widgets/base",
            "overflow": null,
            "_model_module_version": "1.2.0",
            "_view_count": null,
            "flex_flow": null,
            "width": null,
            "min_width": null,
            "border": null,
            "align_items": null,
            "bottom": null,
            "_model_module": "@jupyter-widgets/base",
            "top": null,
            "grid_column": null,
            "overflow_y": null,
            "overflow_x": null,
            "grid_auto_flow": null,
            "grid_area": null,
            "grid_template_columns": null,
            "flex": null,
            "_model_name": "LayoutModel",
            "justify_items": null,
            "grid_row": null,
            "max_height": null,
            "align_content": null,
            "visibility": null,
            "align_self": null,
            "height": null,
            "min_height": null,
            "padding": null,
            "grid_auto_rows": null,
            "grid_gap": null,
            "max_width": null,
            "order": null,
            "_view_module_version": "1.2.0",
            "grid_template_areas": null,
            "object_position": null,
            "object_fit": null,
            "grid_auto_columns": null,
            "margin": null,
            "display": null,
            "left": null
          }
        },
        "085ba69873a94ba4bc6b65a4326711b1": {
          "model_module": "@jupyter-widgets/controls",
          "model_name": "LabelModel",
          "state": {
            "_view_name": "LabelView",
            "style": "IPY_MODEL_28d92a4aafe9410da69d833d3a8835f8",
            "_dom_classes": [],
            "description": "",
            "_model_name": "LabelModel",
            "placeholder": "​",
            "_view_module": "@jupyter-widgets/controls",
            "_model_module_version": "1.5.0",
            "value": "Select your beer",
            "_view_count": null,
            "_view_module_version": "1.5.0",
            "description_tooltip": null,
            "_model_module": "@jupyter-widgets/controls",
            "layout": "IPY_MODEL_57e18f33b1544379920bede85b3630c9"
          }
        },
        "80bf825b40704025812ca7afc05d4086": {
          "model_module": "@jupyter-widgets/controls",
          "model_name": "FileUploadModel",
          "state": {
            "_view_name": "FileUploadView",
            "_counter": 0,
            "style": "IPY_MODEL_e580cce0e8c14d4f8de0f4e570b1b95a",
            "_dom_classes": [],
            "description": "Upload",
            "multiple": false,
            "_model_name": "FileUploadModel",
            "data": [],
            "button_style": "",
            "_view_module": "@jupyter-widgets/controls",
            "_model_module_version": "1.5.0",
            "accept": "",
            "_view_count": null,
            "disabled": false,
            "_view_module_version": "1.5.0",
            "error": "",
            "description_tooltip": null,
            "metadata": [],
            "_model_module": "@jupyter-widgets/controls",
            "layout": "IPY_MODEL_42b7cf36698e436badfb719b7c4a47ca",
            "icon": "upload"
          }
        },
        "28d92a4aafe9410da69d833d3a8835f8": {
          "model_module": "@jupyter-widgets/controls",
          "model_name": "DescriptionStyleModel",
          "state": {
            "_view_name": "StyleView",
            "_model_name": "DescriptionStyleModel",
            "description_width": "",
            "_view_module": "@jupyter-widgets/base",
            "_model_module_version": "1.5.0",
            "_view_count": null,
            "_view_module_version": "1.2.0",
            "_model_module": "@jupyter-widgets/controls"
          }
        },
        "57e18f33b1544379920bede85b3630c9": {
          "model_module": "@jupyter-widgets/base",
          "model_name": "LayoutModel",
          "state": {
            "_view_name": "LayoutView",
            "grid_template_rows": null,
            "right": null,
            "justify_content": null,
            "_view_module": "@jupyter-widgets/base",
            "overflow": null,
            "_model_module_version": "1.2.0",
            "_view_count": null,
            "flex_flow": null,
            "width": null,
            "min_width": null,
            "border": null,
            "align_items": null,
            "bottom": null,
            "_model_module": "@jupyter-widgets/base",
            "top": null,
            "grid_column": null,
            "overflow_y": null,
            "overflow_x": null,
            "grid_auto_flow": null,
            "grid_area": null,
            "grid_template_columns": null,
            "flex": null,
            "_model_name": "LayoutModel",
            "justify_items": null,
            "grid_row": null,
            "max_height": null,
            "align_content": null,
            "visibility": null,
            "align_self": null,
            "height": null,
            "min_height": null,
            "padding": null,
            "grid_auto_rows": null,
            "grid_gap": null,
            "max_width": null,
            "order": null,
            "_view_module_version": "1.2.0",
            "grid_template_areas": null,
            "object_position": null,
            "object_fit": null,
            "grid_auto_columns": null,
            "margin": null,
            "display": null,
            "left": null
          }
        },
        "e580cce0e8c14d4f8de0f4e570b1b95a": {
          "model_module": "@jupyter-widgets/controls",
          "model_name": "ButtonStyleModel",
          "state": {
            "_view_name": "StyleView",
            "_model_name": "ButtonStyleModel",
            "_view_module": "@jupyter-widgets/base",
            "_model_module_version": "1.5.0",
            "_view_count": null,
            "button_color": null,
            "font_weight": "",
            "_view_module_version": "1.2.0",
            "_model_module": "@jupyter-widgets/controls"
          }
        },
        "42b7cf36698e436badfb719b7c4a47ca": {
          "model_module": "@jupyter-widgets/base",
          "model_name": "LayoutModel",
          "state": {
            "_view_name": "LayoutView",
            "grid_template_rows": null,
            "right": null,
            "justify_content": null,
            "_view_module": "@jupyter-widgets/base",
            "overflow": null,
            "_model_module_version": "1.2.0",
            "_view_count": null,
            "flex_flow": null,
            "width": null,
            "min_width": null,
            "border": null,
            "align_items": null,
            "bottom": null,
            "_model_module": "@jupyter-widgets/base",
            "top": null,
            "grid_column": null,
            "overflow_y": null,
            "overflow_x": null,
            "grid_auto_flow": null,
            "grid_area": null,
            "grid_template_columns": null,
            "flex": null,
            "_model_name": "LayoutModel",
            "justify_items": null,
            "grid_row": null,
            "max_height": null,
            "align_content": null,
            "visibility": null,
            "align_self": null,
            "height": null,
            "min_height": null,
            "padding": null,
            "grid_auto_rows": null,
            "grid_gap": null,
            "max_width": null,
            "order": null,
            "_view_module_version": "1.2.0",
            "grid_template_areas": null,
            "object_position": null,
            "object_fit": null,
            "grid_auto_columns": null,
            "margin": null,
            "display": null,
            "left": null
          }
        }
      }
    }
  },
  "cells": [
    {
      "cell_type": "markdown",
      "metadata": {
        "id": "view-in-github",
        "colab_type": "text"
      },
      "source": [
        "<a href=\"https://colab.research.google.com/github/lhoegler16/Biersortenerkennung/blob/main/Userinterface_Biersortenerkenner.ipynb\" target=\"_parent\"><img src=\"https://colab.research.google.com/assets/colab-badge.svg\" alt=\"Open In Colab\"/></a>"
      ]
    },
    {
      "cell_type": "markdown",
      "metadata": {
        "id": "3814VjvJ9ran"
      },
      "source": [
        "# Userinterface: Biersortenerkenner"
      ]
    },
    {
      "cell_type": "code",
      "metadata": {
        "colab": {
          "base_uri": "https://localhost:8080/"
        },
        "id": "9uBzyRc8zxaX",
        "outputId": "759fe0b5-d5d8-4a4f-d645-b8e12b6ff1a1"
      },
      "source": [
        "from google.colab import drive\n",
        "drive.mount('/content/drive')"
      ],
      "execution_count": 1,
      "outputs": [
        {
          "output_type": "stream",
          "text": [
            "Mounted at /content/drive\n"
          ],
          "name": "stdout"
        }
      ]
    },
    {
      "cell_type": "code",
      "metadata": {
        "colab": {
          "base_uri": "https://localhost:8080/"
        },
        "id": "vCZZltLc2V2A",
        "outputId": "d943a9e1-0f30-4ff9-c443-c97eee3b3d58"
      },
      "source": [
        "!pip install -U fastai"
      ],
      "execution_count": 24,
      "outputs": [
        {
          "output_type": "stream",
          "text": [
            "Requirement already up-to-date: fastai in /usr/local/lib/python3.7/dist-packages (2.3.0)\n",
            "Requirement already satisfied, skipping upgrade: matplotlib in /usr/local/lib/python3.7/dist-packages (from fastai) (3.2.2)\n",
            "Requirement already satisfied, skipping upgrade: requests in /usr/local/lib/python3.7/dist-packages (from fastai) (2.23.0)\n",
            "Requirement already satisfied, skipping upgrade: torchvision<0.9,>=0.8 in /usr/local/lib/python3.7/dist-packages (from fastai) (0.8.2)\n",
            "Requirement already satisfied, skipping upgrade: fastprogress>=0.2.4 in /usr/local/lib/python3.7/dist-packages (from fastai) (1.0.0)\n",
            "Requirement already satisfied, skipping upgrade: torch<1.8,>=1.7.0 in /usr/local/lib/python3.7/dist-packages (from fastai) (1.7.1)\n",
            "Requirement already satisfied, skipping upgrade: pandas in /usr/local/lib/python3.7/dist-packages (from fastai) (1.1.5)\n",
            "Requirement already satisfied, skipping upgrade: pillow>6.0.0 in /usr/local/lib/python3.7/dist-packages (from fastai) (7.1.2)\n",
            "Requirement already satisfied, skipping upgrade: pip in /usr/local/lib/python3.7/dist-packages (from fastai) (19.3.1)\n",
            "Requirement already satisfied, skipping upgrade: scipy in /usr/local/lib/python3.7/dist-packages (from fastai) (1.4.1)\n",
            "Requirement already satisfied, skipping upgrade: fastcore<1.4,>=1.3.8 in /usr/local/lib/python3.7/dist-packages (from fastai) (1.3.19)\n",
            "Requirement already satisfied, skipping upgrade: packaging in /usr/local/lib/python3.7/dist-packages (from fastai) (20.9)\n",
            "Requirement already satisfied, skipping upgrade: scikit-learn in /usr/local/lib/python3.7/dist-packages (from fastai) (0.22.2.post1)\n",
            "Requirement already satisfied, skipping upgrade: pyyaml in /usr/local/lib/python3.7/dist-packages (from fastai) (3.13)\n",
            "Requirement already satisfied, skipping upgrade: spacy<3 in /usr/local/lib/python3.7/dist-packages (from fastai) (2.2.4)\n",
            "Requirement already satisfied, skipping upgrade: pyparsing!=2.0.4,!=2.1.2,!=2.1.6,>=2.0.1 in /usr/local/lib/python3.7/dist-packages (from matplotlib->fastai) (2.4.7)\n",
            "Requirement already satisfied, skipping upgrade: numpy>=1.11 in /usr/local/lib/python3.7/dist-packages (from matplotlib->fastai) (1.19.5)\n",
            "Requirement already satisfied, skipping upgrade: kiwisolver>=1.0.1 in /usr/local/lib/python3.7/dist-packages (from matplotlib->fastai) (1.3.1)\n",
            "Requirement already satisfied, skipping upgrade: python-dateutil>=2.1 in /usr/local/lib/python3.7/dist-packages (from matplotlib->fastai) (2.8.1)\n",
            "Requirement already satisfied, skipping upgrade: cycler>=0.10 in /usr/local/lib/python3.7/dist-packages (from matplotlib->fastai) (0.10.0)\n",
            "Requirement already satisfied, skipping upgrade: chardet<4,>=3.0.2 in /usr/local/lib/python3.7/dist-packages (from requests->fastai) (3.0.4)\n",
            "Requirement already satisfied, skipping upgrade: idna<3,>=2.5 in /usr/local/lib/python3.7/dist-packages (from requests->fastai) (2.10)\n",
            "Requirement already satisfied, skipping upgrade: urllib3!=1.25.0,!=1.25.1,<1.26,>=1.21.1 in /usr/local/lib/python3.7/dist-packages (from requests->fastai) (1.24.3)\n",
            "Requirement already satisfied, skipping upgrade: certifi>=2017.4.17 in /usr/local/lib/python3.7/dist-packages (from requests->fastai) (2020.12.5)\n",
            "Requirement already satisfied, skipping upgrade: typing-extensions in /usr/local/lib/python3.7/dist-packages (from torch<1.8,>=1.7.0->fastai) (3.7.4.3)\n",
            "Requirement already satisfied, skipping upgrade: pytz>=2017.2 in /usr/local/lib/python3.7/dist-packages (from pandas->fastai) (2018.9)\n",
            "Requirement already satisfied, skipping upgrade: joblib>=0.11 in /usr/local/lib/python3.7/dist-packages (from scikit-learn->fastai) (1.0.1)\n",
            "Requirement already satisfied, skipping upgrade: catalogue<1.1.0,>=0.0.7 in /usr/local/lib/python3.7/dist-packages (from spacy<3->fastai) (1.0.0)\n",
            "Requirement already satisfied, skipping upgrade: blis<0.5.0,>=0.4.0 in /usr/local/lib/python3.7/dist-packages (from spacy<3->fastai) (0.4.1)\n",
            "Requirement already satisfied, skipping upgrade: tqdm<5.0.0,>=4.38.0 in /usr/local/lib/python3.7/dist-packages (from spacy<3->fastai) (4.41.1)\n",
            "Requirement already satisfied, skipping upgrade: preshed<3.1.0,>=3.0.2 in /usr/local/lib/python3.7/dist-packages (from spacy<3->fastai) (3.0.5)\n",
            "Requirement already satisfied, skipping upgrade: wasabi<1.1.0,>=0.4.0 in /usr/local/lib/python3.7/dist-packages (from spacy<3->fastai) (0.8.2)\n",
            "Requirement already satisfied, skipping upgrade: thinc==7.4.0 in /usr/local/lib/python3.7/dist-packages (from spacy<3->fastai) (7.4.0)\n",
            "Requirement already satisfied, skipping upgrade: plac<1.2.0,>=0.9.6 in /usr/local/lib/python3.7/dist-packages (from spacy<3->fastai) (1.1.3)\n",
            "Requirement already satisfied, skipping upgrade: setuptools in /usr/local/lib/python3.7/dist-packages (from spacy<3->fastai) (54.2.0)\n",
            "Requirement already satisfied, skipping upgrade: srsly<1.1.0,>=1.0.2 in /usr/local/lib/python3.7/dist-packages (from spacy<3->fastai) (1.0.5)\n",
            "Requirement already satisfied, skipping upgrade: murmurhash<1.1.0,>=0.28.0 in /usr/local/lib/python3.7/dist-packages (from spacy<3->fastai) (1.0.5)\n",
            "Requirement already satisfied, skipping upgrade: cymem<2.1.0,>=2.0.2 in /usr/local/lib/python3.7/dist-packages (from spacy<3->fastai) (2.0.5)\n",
            "Requirement already satisfied, skipping upgrade: six>=1.5 in /usr/local/lib/python3.7/dist-packages (from python-dateutil>=2.1->matplotlib->fastai) (1.15.0)\n",
            "Requirement already satisfied, skipping upgrade: importlib-metadata>=0.20; python_version < \"3.8\" in /usr/local/lib/python3.7/dist-packages (from catalogue<1.1.0,>=0.0.7->spacy<3->fastai) (3.10.0)\n",
            "Requirement already satisfied, skipping upgrade: zipp>=0.5 in /usr/local/lib/python3.7/dist-packages (from importlib-metadata>=0.20; python_version < \"3.8\"->catalogue<1.1.0,>=0.0.7->spacy<3->fastai) (3.4.1)\n"
          ],
          "name": "stdout"
        }
      ]
    },
    {
      "cell_type": "code",
      "metadata": {
        "id": "6nTWGNUn2d2o"
      },
      "source": [
        "from fastai.vision.all import*\n",
        "import ipywidgets as widgets"
      ],
      "execution_count": 25,
      "outputs": []
    },
    {
      "cell_type": "code",
      "metadata": {
        "colab": {
          "base_uri": "https://localhost:8080/",
          "height": 49,
          "referenced_widgets": [
            "8cea0b5251364342ba128f22b18743be",
            "4c74989734eb4042bcc580f4a03f5f33",
            "31a8025e8c844cb1b1ff534cc0e103f5"
          ]
        },
        "id": "yK8a6Fjz3_gh",
        "outputId": "33497e20-d854-4cc8-814a-3d2a0b6afccf"
      },
      "source": [
        "btn_upload = widgets.FileUpload()\n",
        "btn_upload"
      ],
      "execution_count": 26,
      "outputs": [
        {
          "output_type": "display_data",
          "data": {
            "application/vnd.jupyter.widget-view+json": {
              "model_id": "8cea0b5251364342ba128f22b18743be",
              "version_minor": 0,
              "version_major": 2
            },
            "text/plain": [
              "FileUpload(value={}, description='Upload')"
            ]
          },
          "metadata": {
            "tags": []
          }
        }
      ]
    },
    {
      "cell_type": "code",
      "metadata": {
        "id": "4Z9EgTTB4YrU"
      },
      "source": [
        "img = PILImage.create(btn_upload.data[-1])"
      ],
      "execution_count": 28,
      "outputs": []
    },
    {
      "cell_type": "code",
      "metadata": {
        "colab": {
          "base_uri": "https://localhost:8080/",
          "height": 145,
          "referenced_widgets": [
            "22932dcb773f44269b49232568a1c8f5",
            "a1e6a5cfd7b84478a1be535a30225ee1"
          ]
        },
        "id": "NwW_305n4GyT",
        "outputId": "6daeb1c2-666d-459b-d74e-17adbfd7e9e8"
      },
      "source": [
        "out_p1 = widgets.Output()\n",
        "out_p1.clear_output()\n",
        "with out_p1: display(img.to_thumb(128,128))\n",
        "out_p1"
      ],
      "execution_count": 29,
      "outputs": [
        {
          "output_type": "display_data",
          "data": {
            "application/vnd.jupyter.widget-view+json": {
              "model_id": "22932dcb773f44269b49232568a1c8f5",
              "version_minor": 0,
              "version_major": 2
            },
            "text/plain": [
              "Output()"
            ]
          },
          "metadata": {
            "tags": []
          }
        }
      ]
    },
    {
      "cell_type": "code",
      "metadata": {
        "id": "Z2uQ5WNw5v-i",
        "outputId": "1d37ad89-ca06-42b1-dde2-74a4546991f6",
        "colab": {
          "base_uri": "https://localhost:8080/",
          "height": 17
        }
      },
      "source": [
        "!cp drive/MyDrive/Biersortenerkenner/biersorten_classifier.pkl ./\n",
        "\n",
        "path = Path();\n",
        "inference = load_learner(path/'biersorten_classifier.pkl')\n",
        "pred,pred_idx,probs = inference.predict(img)"
      ],
      "execution_count": 30,
      "outputs": [
        {
          "output_type": "display_data",
          "data": {
            "text/html": [
              ""
            ],
            "text/plain": [
              "<IPython.core.display.HTML object>"
            ]
          },
          "metadata": {
            "tags": []
          }
        }
      ]
    },
    {
      "cell_type": "code",
      "metadata": {
        "colab": {
          "base_uri": "https://localhost:8080/",
          "height": 49,
          "referenced_widgets": [
            "2f9eb0cdfab74a93aaec25a90ad74a0d",
            "a9bfd80e494b4f7aa3e3e5e602acae98",
            "51f501a116f84f419fba519c6595fd6e"
          ]
        },
        "id": "BKTjuhqo6vKz",
        "outputId": "4fd3eca8-318d-4fb0-89fc-1c36804d7fa2"
      },
      "source": [
        "lbl_pred = widgets.Label()\n",
        "lbl_pred.value = f'Prediction: {pred} ; Probability: {probs[pred_idx]:.04f}'\n",
        "lbl_pred"
      ],
      "execution_count": 31,
      "outputs": [
        {
          "output_type": "display_data",
          "data": {
            "application/vnd.jupyter.widget-view+json": {
              "model_id": "2f9eb0cdfab74a93aaec25a90ad74a0d",
              "version_minor": 0,
              "version_major": 2
            },
            "text/plain": [
              "Label(value='Prediction: rieder_maerzen ; Probability: 0.9996')"
            ]
          },
          "metadata": {
            "tags": []
          }
        }
      ]
    },
    {
      "cell_type": "code",
      "metadata": {
        "colab": {
          "base_uri": "https://localhost:8080/",
          "height": 49,
          "referenced_widgets": [
            "c3f4cdabb66d4998a8e5a77786a35d46",
            "50abb48acde0437a87df3221f9d4cf84",
            "890ed43d2fd64719ad0d6b946a1043e5"
          ]
        },
        "id": "fDBDrl8H8RLR",
        "outputId": "4022e00f-eb90-41db-9a9e-d8fe6766cad2"
      },
      "source": [
        "btn_run = widgets.Button(description = 'Classify')\n",
        "btn_run"
      ],
      "execution_count": 32,
      "outputs": [
        {
          "output_type": "display_data",
          "data": {
            "application/vnd.jupyter.widget-view+json": {
              "model_id": "c3f4cdabb66d4998a8e5a77786a35d46",
              "version_minor": 0,
              "version_major": 2
            },
            "text/plain": [
              "Button(description='Classify', style=ButtonStyle())"
            ]
          },
          "metadata": {
            "tags": []
          }
        }
      ]
    },
    {
      "cell_type": "code",
      "metadata": {
        "id": "cSZ6zDqZ7aE7"
      },
      "source": [
        "def on_click_classify(change):\n",
        "  img = PILImage.create(btn_upload.data[-1])\n",
        "  out_p1.clear_output()\n",
        "  with out_p1: display(img.to_thumb(128,128))\n",
        "  pred,pred_idx,probs = inference.predict(img)\n",
        "  lbl_pred.value = f'Prediction: {pred} ; Probability: {probs[pred_idx]:.04f}'\n",
        "\n",
        "btn_run.on_click(on_click_classify)"
      ],
      "execution_count": 33,
      "outputs": []
    },
    {
      "cell_type": "code",
      "metadata": {
        "colab": {
          "base_uri": "https://localhost:8080/",
          "height": 273,
          "referenced_widgets": [
            "e165efcf93c64dea855b882d22d817d2",
            "de8538b227a644b8a0998ef1be1bb8f7",
            "085ba69873a94ba4bc6b65a4326711b1",
            "80bf825b40704025812ca7afc05d4086",
            "c3f4cdabb66d4998a8e5a77786a35d46",
            "22932dcb773f44269b49232568a1c8f5",
            "2f9eb0cdfab74a93aaec25a90ad74a0d",
            "28d92a4aafe9410da69d833d3a8835f8",
            "57e18f33b1544379920bede85b3630c9",
            "e580cce0e8c14d4f8de0f4e570b1b95a",
            "42b7cf36698e436badfb719b7c4a47ca",
            "50abb48acde0437a87df3221f9d4cf84",
            "890ed43d2fd64719ad0d6b946a1043e5",
            "a9bfd80e494b4f7aa3e3e5e602acae98",
            "51f501a116f84f419fba519c6595fd6e",
            "a1e6a5cfd7b84478a1be535a30225ee1"
          ]
        },
        "id": "oxWxJGeJ8kv5",
        "outputId": "5343b47f-518f-49dc-c120-7abb05d45334"
      },
      "source": [
        "btn_upload = widgets.FileUpload()\n",
        "widgets.VBox([widgets.Label('Select your beer'),\n",
        "      btn_upload, btn_run,out_p1,lbl_pred])"
      ],
      "execution_count": 34,
      "outputs": [
        {
          "output_type": "display_data",
          "data": {
            "application/vnd.jupyter.widget-view+json": {
              "model_id": "e165efcf93c64dea855b882d22d817d2",
              "version_minor": 0,
              "version_major": 2
            },
            "text/plain": [
              "VBox(children=(Label(value='Select your beer'), FileUpload(value={}, description='Upload'), Button(description…"
            ]
          },
          "metadata": {
            "tags": []
          }
        }
      ]
    }
  ]
}