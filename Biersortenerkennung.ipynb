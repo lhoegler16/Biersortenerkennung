{
  "nbformat": 4,
  "nbformat_minor": 0,
  "metadata": {
    "colab": {
      "name": "Untitled0.ipynb",
      "private_outputs": true,
      "provenance": [],
      "authorship_tag": "ABX9TyMRR7WxdqlkZxG/JOesxKkx",
      "include_colab_link": true
    },
    "kernelspec": {
      "name": "python3",
      "display_name": "Python 3"
    },
    "language_info": {
      "name": "python"
    },
    "accelerator": "GPU"
  },
  "cells": [
    {
      "cell_type": "markdown",
      "metadata": {
        "id": "view-in-github",
        "colab_type": "text"
      },
      "source": [
        "<a href=\"https://colab.research.google.com/github/lhoegler16/Biersortenerkennung/blob/main/Biersortenerkennung.ipynb\" target=\"_parent\"><img src=\"https://colab.research.google.com/assets/colab-badge.svg\" alt=\"Open In Colab\"/></a>"
      ]
    },
    {
      "cell_type": "code",
      "metadata": {
        "id": "NP21Z-Eta-3Q"
      },
      "source": [
        "!pip install -U fastai\n"
      ],
      "execution_count": null,
      "outputs": []
    },
    {
      "cell_type": "code",
      "metadata": {
        "id": "lGOFQu_jbDRf"
      },
      "source": [
        "import requests\n",
        "import matplotlib.pyplot as plt\n",
        "from PIL import Image\n",
        "from io import BytesIO\n",
        "\n",
        "subscription_key = \"47fb617ff9c74f349130a0be97a44fbd\"\n",
        "search_url = \"https://api.bing.microsoft.com/v7.0/images/search\"\n",
        "search_term = \"Zipfer Märzen\""
      ],
      "execution_count": null,
      "outputs": []
    },
    {
      "cell_type": "code",
      "metadata": {
        "id": "0ZV0kPhQcJyY"
      },
      "source": [
        "headers = {\"Ocp-Apim-Subscription-Key\" : subscription_key}"
      ],
      "execution_count": null,
      "outputs": []
    },
    {
      "cell_type": "code",
      "metadata": {
        "id": "RDe8zVJe_s4_"
      },
      "source": [
        "params  = [{\"q\": \"Zipfer Märzen\", \"license\": \"public\", \"imageType\": \"photo\"},{\"q\": \"Zipfer Urtyp\", \"license\": \"public\", \"imageType\": \"photo\"},\n",
        "           {\"q\": \"Zipfer Pils\", \"license\": \"public\", \"imageType\": \"photo\"},{\"q\": \"Zipfer Sparkling\", \"license\": \"public\", \"imageType\": \"photo\"},\n",
        "           {\"q\": \"Zipfer Hell\", \"license\": \"public\", \"imageType\": \"photo\"},{\"q\": \"Zipfer Drei\", \"license\": \"public\", \"imageType\": \"photo\"},\n",
        "           {\"q\": \"Zipfer Doppelgold\", \"license\": \"public\", \"imageType\": \"photo\"}]"
      ],
      "execution_count": null,
      "outputs": []
    },
    {
      "cell_type": "code",
      "metadata": {
        "id": "6Fa9QMcpAtro"
      },
      "source": [
        ""
      ],
      "execution_count": null,
      "outputs": []
    }
  ]
}